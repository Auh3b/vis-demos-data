{
 "cells": [
  {
   "cell_type": "code",
   "execution_count": 1,
   "metadata": {},
   "outputs": [],
   "source": [
    "import pandas as pd\n",
    "import geopandas as gpd\n",
    "import shapely\n",
    "import os\n",
    "import json"
   ]
  },
  {
   "cell_type": "markdown",
   "metadata": {},
   "source": [
    "# Add local files\n"
   ]
  },
  {
   "cell_type": "code",
   "execution_count": 2,
   "metadata": {},
   "outputs": [],
   "source": [
    "working_dird = os.getcwd()\n",
    "raw_data_folder = os.path.join(working_dird, 'data', 'raw')\n",
    "output_dir = os.path.join(working_dird, 'data', 'output')\n",
    "files = [os.path.join(raw_data_folder, x) for x in os.listdir(raw_data_folder)]"
   ]
  },
  {
   "cell_type": "code",
   "execution_count": 3,
   "metadata": {},
   "outputs": [],
   "source": [
    "ct_dfs = [pd.read_csv(x) for x in files]"
   ]
  },
  {
   "cell_type": "code",
   "execution_count": 4,
   "metadata": {},
   "outputs": [],
   "source": [
    "monthly_avg_price = ct_dfs[0]\n",
    "monthly_reg_type = ct_dfs[1]\n",
    "monthly_prod_sale = ct_dfs[2]\n",
    "monthly_tax = ct_dfs[4]\n",
    "approved_towns = ct_dfs[5]\n",
    "shops = ct_dfs[6]"
   ]
  },
  {
   "cell_type": "markdown",
   "metadata": {},
   "source": [
    "##### UNIFY PRODUCT TYPES\n"
   ]
  },
  {
   "cell_type": "code",
   "execution_count": 5,
   "metadata": {},
   "outputs": [],
   "source": [
    "product_types_1 = list(monthly_reg_type['Product Type'].unique())\n",
    "product_types_2 = list(monthly_prod_sale['Product Type'].unique())\n",
    "\n",
    "product_types_2_dict = [product_types_2[-1], product_types_2[2], product_types_2[0], product_types_2[-2],\n",
    "                        product_types_2[-1], product_types_2[-1], product_types_2[1], product_types_2[-1], product_types_2[-1]]\n",
    "\n",
    "new_product_type_dict = {}\n",
    "\n",
    "for x, y in list(zip(product_types_1, product_types_2_dict)):\n",
    "    new_product_type_dict[x] = y\n",
    "monthly_reg_type['Product Type'] = monthly_reg_type['Product Type'].apply(\n",
    "    lambda x: new_product_type_dict[x])"
   ]
  },
  {
   "cell_type": "markdown",
   "metadata": {},
   "source": [
    "##### LOCATIONS\n"
   ]
  },
  {
   "cell_type": "code",
   "execution_count": 6,
   "metadata": {},
   "outputs": [],
   "source": [
    "shops['latitude'] = shops['Location'].apply(lambda x: shapely.from_wkt(x).y)\n",
    "shops['longitude'] = shops['Location'].apply(lambda x: shapely.from_wkt(x).x)\n",
    "shops['City'] = shops['City'].str.title()"
   ]
  },
  {
   "cell_type": "code",
   "execution_count": 7,
   "metadata": {},
   "outputs": [],
   "source": [
    "usa_counties = gpd.read_file(\n",
    "    \"https://geodata.ucdavis.edu/gadm/gadm4.1/json/gadm41_USA_2.json\")"
   ]
  },
  {
   "cell_type": "code",
   "execution_count": 8,
   "metadata": {},
   "outputs": [],
   "source": [
    "conntt = usa_counties[usa_counties['NAME_1'] == 'Connecticut']\n",
    "conntt = conntt[['GID_1', 'NAME_1', 'NAME_2', 'geometry']]\n",
    "conntt.columns = ['id', 'state', 'county', 'geometry']\n",
    "conntt = conntt.reset_index()"
   ]
  },
  {
   "cell_type": "code",
   "execution_count": 9,
   "metadata": {},
   "outputs": [],
   "source": [
    "def getIntersectionId(point: shapely.Point, bnds: list[shapely.MultiPolygon]):\n",
    "    id = 0\n",
    "    length = len(bnds)\n",
    "    while (id < length):\n",
    "        if (bnds[id].contains(point)):\n",
    "            break\n",
    "        id += 1\n",
    "    return id"
   ]
  },
  {
   "cell_type": "code",
   "execution_count": 10,
   "metadata": {},
   "outputs": [],
   "source": [
    "bnds = list(conntt['geometry'])\n",
    "counties = list(conntt['county'])\n",
    "shops['counties'] = shops['Location'].apply(\n",
    "    lambda x: counties[getIntersectionId(shapely.from_wkt(x), bnds)])"
   ]
  },
  {
   "cell_type": "code",
   "execution_count": 12,
   "metadata": {},
   "outputs": [],
   "source": [
    "shops = shops[['Type', 'Business', 'Street',\n",
    "               'Zipcode', 'City', 'counties', 'latitude', 'longitude']]"
   ]
  },
  {
   "cell_type": "code",
   "execution_count": 13,
   "metadata": {},
   "outputs": [],
   "source": [
    "shops.columns = ['type', 'business', 'street',\n",
    "                 'zipcode', 'city', 'county', 'latitude', 'longitude']"
   ]
  },
  {
   "cell_type": "code",
   "execution_count": 14,
   "metadata": {},
   "outputs": [],
   "source": [
    "monthly_prod_sale['month'] = monthly_prod_sale['Month Ending'].apply(lambda x: x.split(' ')[\n",
    "    0])\n",
    "monthly_prod_sale['year'] = monthly_prod_sale['Month Ending'].apply(\n",
    "    lambda x: x.split(' ')[1])\n",
    "monthly_avg_price['month'] = monthly_avg_price['Month Ending'].apply(lambda x: x.split(' ')[\n",
    "    0])\n",
    "monthly_avg_price['year'] = monthly_avg_price['Month Ending'].apply(\n",
    "    lambda x: x.split(' ')[1])\n",
    "monthly_reg_type['month'] = monthly_reg_type['Month'].apply(\n",
    "    lambda x: x.split(' ')[0])\n",
    "monthly_reg_type['year'] = monthly_reg_type['Month'].apply(\n",
    "    lambda x: x.split(' ')[1])"
   ]
  },
  {
   "cell_type": "code",
   "execution_count": 15,
   "metadata": {},
   "outputs": [],
   "source": [
    "monthly_tax = monthly_tax[['Month', 'Calendar Year', 'Fiscal Year',\n",
    "                           'Plant Material Tax', 'Edible Products Tax', 'Other Cannabis Tax']]"
   ]
  },
  {
   "cell_type": "code",
   "execution_count": 16,
   "metadata": {},
   "outputs": [],
   "source": [
    "monthly_tax.columns = ['month', 'year', 'fiscal_year',\n",
    "                       'plant_material_tax', 'edible_products_tax', 'other_cannabis__tax']"
   ]
  },
  {
   "cell_type": "code",
   "execution_count": 17,
   "metadata": {},
   "outputs": [],
   "source": [
    "monthly_tax.to_json(os.path.join(\n",
    "    output_dir, 'ct_monthly_tax.json'), orient='records')\n",
    "monthly_avg_price.to_json(os.path.join(\n",
    "    output_dir, 'ct_monthly_avg_price.json'), orient='records')\n",
    "monthly_prod_sale.to_json(os.path.join(\n",
    "    output_dir, 'ct_monthly_prod_sale.json'), orient='records')\n",
    "monthly_reg_type.to_json(os.path.join(\n",
    "    output_dir, 'ct_monthly_reg_type.json'), orient='records')\n",
    "shops.to_json(os.path.join(\n",
    "    output_dir, 'ct_shops.json'), orient='records')"
   ]
  },
  {
   "cell_type": "code",
   "execution_count": 18,
   "metadata": {},
   "outputs": [],
   "source": [
    "conntt.to_file(os.path.join(\n",
    "    output_dir, 'ct_counties.geojson'), driver='GeoJSON')"
   ]
  },
  {
   "cell_type": "code",
   "execution_count": null,
   "metadata": {},
   "outputs": [],
   "source": []
  }
 ],
 "metadata": {
  "kernelspec": {
   "display_name": "Python 3",
   "language": "python",
   "name": "python3"
  },
  "language_info": {
   "codemirror_mode": {
    "name": "ipython",
    "version": 3
   },
   "file_extension": ".py",
   "mimetype": "text/x-python",
   "name": "python",
   "nbconvert_exporter": "python",
   "pygments_lexer": "ipython3",
   "version": "3.11.4"
  }
 },
 "nbformat": 4,
 "nbformat_minor": 2
}
